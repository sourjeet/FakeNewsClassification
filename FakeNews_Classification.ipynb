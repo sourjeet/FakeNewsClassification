{
  "nbformat": 4,
  "nbformat_minor": 0,
  "metadata": {
    "colab": {
      "name": "FakeNews_Classification.ipynb",
      "provenance": []
    },
    "kernelspec": {
      "name": "python3",
      "display_name": "Python 3"
    }
  },
  "cells": [
    {
      "cell_type": "code",
      "metadata": {
        "id": "CAx4Ir04QvDE",
        "colab": {
          "base_uri": "https://localhost:8080/"
        },
        "outputId": "dc3a8b27-7c74-4e2f-e061-418cd120a94f"
      },
      "source": [
        "from google.colab import drive\n",
        "drive.mount('/content/gdrive')"
      ],
      "execution_count": 1,
      "outputs": [
        {
          "output_type": "stream",
          "text": [
            "Drive already mounted at /content/gdrive; to attempt to forcibly remount, call drive.mount(\"/content/gdrive\", force_remount=True).\n"
          ],
          "name": "stdout"
        }
      ]
    },
    {
      "cell_type": "code",
      "metadata": {
        "id": "mI64ineFRLin"
      },
      "source": [
        "import os\n",
        "os.environ['KAGGLE_CONFIG_DIR'] = \"/content/gdrive/My Drive/Kaggle\""
      ],
      "execution_count": 2,
      "outputs": []
    },
    {
      "cell_type": "code",
      "metadata": {
        "colab": {
          "base_uri": "https://localhost:8080/"
        },
        "id": "wmw9GrVaRqUN",
        "outputId": "332f3c7e-f779-4c40-af20-bf1756acb087"
      },
      "source": [
        "!ls -lrt"
      ],
      "execution_count": 3,
      "outputs": [
        {
          "output_type": "stream",
          "text": [
            "total 41984\n",
            "drwxr-xr-x 1 root root     4096 Feb 24 17:49 sample_data\n",
            "-rw-r--r-- 1 root root 42975911 Feb 27 11:36 fake-and-real-news-dataset.zip\n",
            "drwx------ 5 root root     4096 Feb 27 11:41 gdrive\n"
          ],
          "name": "stdout"
        }
      ]
    },
    {
      "cell_type": "code",
      "metadata": {
        "id": "gSRj2fOnRx-6"
      },
      "source": [
        "os.chdir(\"/content/gdrive/MyDrive/ColabNotebooks/FakeNews\")"
      ],
      "execution_count": 4,
      "outputs": []
    },
    {
      "cell_type": "code",
      "metadata": {
        "colab": {
          "base_uri": "https://localhost:8080/"
        },
        "id": "8Lq8AmkVRl4K",
        "outputId": "df099e72-9368-494f-cc81-a1b1b221b989"
      },
      "source": [
        "!kaggle datasets download -d clmentbisaillon/fake-and-real-news-dataset"
      ],
      "execution_count": 5,
      "outputs": [
        {
          "output_type": "stream",
          "text": [
            "Downloading fake-and-real-news-dataset.zip to /content/gdrive/My Drive/ColabNotebooks/FakeNews\n",
            " 95% 39.0M/41.0M [00:01<00:00, 22.8MB/s]\n",
            "100% 41.0M/41.0M [00:01<00:00, 30.3MB/s]\n"
          ],
          "name": "stdout"
        }
      ]
    },
    {
      "cell_type": "code",
      "metadata": {
        "colab": {
          "base_uri": "https://localhost:8080/"
        },
        "id": "zXzccrkhTH-z",
        "outputId": "191b05be-5509-4770-c517-854856214fc2"
      },
      "source": [
        "!unzip \\*.zip  && rm *.zip"
      ],
      "execution_count": 6,
      "outputs": [
        {
          "output_type": "stream",
          "text": [
            "Archive:  fake-and-real-news-dataset.zip\n",
            "replace Fake.csv? [y]es, [n]o, [A]ll, [N]one, [r]ename: y\n",
            "  inflating: Fake.csv                \n",
            "replace True.csv? [y]es, [n]o, [A]ll, [N]one, [r]ename: y\n",
            "  inflating: True.csv                \n"
          ],
          "name": "stdout"
        }
      ]
    },
    {
      "cell_type": "code",
      "metadata": {
        "id": "qZ6QA1bHRTXg"
      },
      "source": [
        "import pandas as pd\n",
        "import numpy as np\n",
        "import matplotlib.pyplot as plt\n",
        "\n",
        "import string\n",
        "import nltk"
      ],
      "execution_count": 7,
      "outputs": []
    },
    {
      "cell_type": "code",
      "metadata": {
        "id": "63S87K0-RdqM"
      },
      "source": [
        "# load the data\n",
        "trueDF = pd.read_csv(\"True.csv\")\n",
        "fakeDF = pd.read_csv(\"Fake.csv\")"
      ],
      "execution_count": 8,
      "outputs": []
    },
    {
      "cell_type": "code",
      "metadata": {
        "colab": {
          "base_uri": "https://localhost:8080/"
        },
        "id": "y25vgbT4TXcU",
        "outputId": "b29a0568-7e8d-4883-be2f-3d5063295e8a"
      },
      "source": [
        "\n",
        "print(\"True News dataset shape: \", trueDF.shape)\n",
        "print(\"Fake News dataset shape: \", fakeDF.shape)"
      ],
      "execution_count": 9,
      "outputs": [
        {
          "output_type": "stream",
          "text": [
            "True News dataset shape:  (21417, 4)\n",
            "Fake News dataset shape:  (23481, 4)\n"
          ],
          "name": "stdout"
        }
      ]
    },
    {
      "cell_type": "code",
      "metadata": {
        "colab": {
          "base_uri": "https://localhost:8080/",
          "height": 204
        },
        "id": "aRuuYRn2UAzk",
        "outputId": "93c7cfbb-8990-45ae-d814-dda39ed5c540"
      },
      "source": [
        "trueDF.head()"
      ],
      "execution_count": 10,
      "outputs": [
        {
          "output_type": "execute_result",
          "data": {
            "text/html": [
              "<div>\n",
              "<style scoped>\n",
              "    .dataframe tbody tr th:only-of-type {\n",
              "        vertical-align: middle;\n",
              "    }\n",
              "\n",
              "    .dataframe tbody tr th {\n",
              "        vertical-align: top;\n",
              "    }\n",
              "\n",
              "    .dataframe thead th {\n",
              "        text-align: right;\n",
              "    }\n",
              "</style>\n",
              "<table border=\"1\" class=\"dataframe\">\n",
              "  <thead>\n",
              "    <tr style=\"text-align: right;\">\n",
              "      <th></th>\n",
              "      <th>title</th>\n",
              "      <th>text</th>\n",
              "      <th>subject</th>\n",
              "      <th>date</th>\n",
              "    </tr>\n",
              "  </thead>\n",
              "  <tbody>\n",
              "    <tr>\n",
              "      <th>0</th>\n",
              "      <td>As U.S. budget fight looms, Republicans flip t...</td>\n",
              "      <td>WASHINGTON (Reuters) - The head of a conservat...</td>\n",
              "      <td>politicsNews</td>\n",
              "      <td>December 31, 2017</td>\n",
              "    </tr>\n",
              "    <tr>\n",
              "      <th>1</th>\n",
              "      <td>U.S. military to accept transgender recruits o...</td>\n",
              "      <td>WASHINGTON (Reuters) - Transgender people will...</td>\n",
              "      <td>politicsNews</td>\n",
              "      <td>December 29, 2017</td>\n",
              "    </tr>\n",
              "    <tr>\n",
              "      <th>2</th>\n",
              "      <td>Senior U.S. Republican senator: 'Let Mr. Muell...</td>\n",
              "      <td>WASHINGTON (Reuters) - The special counsel inv...</td>\n",
              "      <td>politicsNews</td>\n",
              "      <td>December 31, 2017</td>\n",
              "    </tr>\n",
              "    <tr>\n",
              "      <th>3</th>\n",
              "      <td>FBI Russia probe helped by Australian diplomat...</td>\n",
              "      <td>WASHINGTON (Reuters) - Trump campaign adviser ...</td>\n",
              "      <td>politicsNews</td>\n",
              "      <td>December 30, 2017</td>\n",
              "    </tr>\n",
              "    <tr>\n",
              "      <th>4</th>\n",
              "      <td>Trump wants Postal Service to charge 'much mor...</td>\n",
              "      <td>SEATTLE/WASHINGTON (Reuters) - President Donal...</td>\n",
              "      <td>politicsNews</td>\n",
              "      <td>December 29, 2017</td>\n",
              "    </tr>\n",
              "  </tbody>\n",
              "</table>\n",
              "</div>"
            ],
            "text/plain": [
              "                                               title  ...                date\n",
              "0  As U.S. budget fight looms, Republicans flip t...  ...  December 31, 2017 \n",
              "1  U.S. military to accept transgender recruits o...  ...  December 29, 2017 \n",
              "2  Senior U.S. Republican senator: 'Let Mr. Muell...  ...  December 31, 2017 \n",
              "3  FBI Russia probe helped by Australian diplomat...  ...  December 30, 2017 \n",
              "4  Trump wants Postal Service to charge 'much mor...  ...  December 29, 2017 \n",
              "\n",
              "[5 rows x 4 columns]"
            ]
          },
          "metadata": {
            "tags": []
          },
          "execution_count": 10
        }
      ]
    },
    {
      "cell_type": "code",
      "metadata": {
        "colab": {
          "base_uri": "https://localhost:8080/",
          "height": 204
        },
        "id": "ftbiN7oiUDaB",
        "outputId": "1f48f4b6-4d92-4264-a4b8-148e85dacdc1"
      },
      "source": [
        "fakeDF.head()"
      ],
      "execution_count": 11,
      "outputs": [
        {
          "output_type": "execute_result",
          "data": {
            "text/html": [
              "<div>\n",
              "<style scoped>\n",
              "    .dataframe tbody tr th:only-of-type {\n",
              "        vertical-align: middle;\n",
              "    }\n",
              "\n",
              "    .dataframe tbody tr th {\n",
              "        vertical-align: top;\n",
              "    }\n",
              "\n",
              "    .dataframe thead th {\n",
              "        text-align: right;\n",
              "    }\n",
              "</style>\n",
              "<table border=\"1\" class=\"dataframe\">\n",
              "  <thead>\n",
              "    <tr style=\"text-align: right;\">\n",
              "      <th></th>\n",
              "      <th>title</th>\n",
              "      <th>text</th>\n",
              "      <th>subject</th>\n",
              "      <th>date</th>\n",
              "    </tr>\n",
              "  </thead>\n",
              "  <tbody>\n",
              "    <tr>\n",
              "      <th>0</th>\n",
              "      <td>Donald Trump Sends Out Embarrassing New Year’...</td>\n",
              "      <td>Donald Trump just couldn t wish all Americans ...</td>\n",
              "      <td>News</td>\n",
              "      <td>December 31, 2017</td>\n",
              "    </tr>\n",
              "    <tr>\n",
              "      <th>1</th>\n",
              "      <td>Drunk Bragging Trump Staffer Started Russian ...</td>\n",
              "      <td>House Intelligence Committee Chairman Devin Nu...</td>\n",
              "      <td>News</td>\n",
              "      <td>December 31, 2017</td>\n",
              "    </tr>\n",
              "    <tr>\n",
              "      <th>2</th>\n",
              "      <td>Sheriff David Clarke Becomes An Internet Joke...</td>\n",
              "      <td>On Friday, it was revealed that former Milwauk...</td>\n",
              "      <td>News</td>\n",
              "      <td>December 30, 2017</td>\n",
              "    </tr>\n",
              "    <tr>\n",
              "      <th>3</th>\n",
              "      <td>Trump Is So Obsessed He Even Has Obama’s Name...</td>\n",
              "      <td>On Christmas day, Donald Trump announced that ...</td>\n",
              "      <td>News</td>\n",
              "      <td>December 29, 2017</td>\n",
              "    </tr>\n",
              "    <tr>\n",
              "      <th>4</th>\n",
              "      <td>Pope Francis Just Called Out Donald Trump Dur...</td>\n",
              "      <td>Pope Francis used his annual Christmas Day mes...</td>\n",
              "      <td>News</td>\n",
              "      <td>December 25, 2017</td>\n",
              "    </tr>\n",
              "  </tbody>\n",
              "</table>\n",
              "</div>"
            ],
            "text/plain": [
              "                                               title  ...               date\n",
              "0   Donald Trump Sends Out Embarrassing New Year’...  ...  December 31, 2017\n",
              "1   Drunk Bragging Trump Staffer Started Russian ...  ...  December 31, 2017\n",
              "2   Sheriff David Clarke Becomes An Internet Joke...  ...  December 30, 2017\n",
              "3   Trump Is So Obsessed He Even Has Obama’s Name...  ...  December 29, 2017\n",
              "4   Pope Francis Just Called Out Donald Trump Dur...  ...  December 25, 2017\n",
              "\n",
              "[5 rows x 4 columns]"
            ]
          },
          "metadata": {
            "tags": []
          },
          "execution_count": 11
        }
      ]
    },
    {
      "cell_type": "code",
      "metadata": {
        "id": "Jtz5Le3cT02d"
      },
      "source": [
        "trueDF['isfake'] = 0\n",
        "fakeDF['isfake'] = 1"
      ],
      "execution_count": 13,
      "outputs": []
    },
    {
      "cell_type": "code",
      "metadata": {
        "colab": {
          "base_uri": "https://localhost:8080/"
        },
        "id": "oMiVloM3ZlRq",
        "outputId": "fd16f252-6099-4e0f-92aa-6f27ee481a5c"
      },
      "source": [
        "df = pd.concat([trueDF, fakeDF]).reset_index()\n",
        "df = df.sample(frac=1)\n",
        "df.head()\n",
        "print(df.shape)"
      ],
      "execution_count": 27,
      "outputs": [
        {
          "output_type": "stream",
          "text": [
            "(44898, 6)\n"
          ],
          "name": "stdout"
        }
      ]
    },
    {
      "cell_type": "code",
      "metadata": {
        "colab": {
          "base_uri": "https://localhost:8080/",
          "height": 204
        },
        "id": "R2vdjJ8Dczxn",
        "outputId": "a66ccf7e-c2e0-4225-b7b1-eaff1d1b351f"
      },
      "source": [
        "df.head()"
      ],
      "execution_count": 28,
      "outputs": [
        {
          "output_type": "execute_result",
          "data": {
            "text/html": [
              "<div>\n",
              "<style scoped>\n",
              "    .dataframe tbody tr th:only-of-type {\n",
              "        vertical-align: middle;\n",
              "    }\n",
              "\n",
              "    .dataframe tbody tr th {\n",
              "        vertical-align: top;\n",
              "    }\n",
              "\n",
              "    .dataframe thead th {\n",
              "        text-align: right;\n",
              "    }\n",
              "</style>\n",
              "<table border=\"1\" class=\"dataframe\">\n",
              "  <thead>\n",
              "    <tr style=\"text-align: right;\">\n",
              "      <th></th>\n",
              "      <th>index</th>\n",
              "      <th>title</th>\n",
              "      <th>text</th>\n",
              "      <th>subject</th>\n",
              "      <th>date</th>\n",
              "      <th>isfake</th>\n",
              "    </tr>\n",
              "  </thead>\n",
              "  <tbody>\n",
              "    <tr>\n",
              "      <th>33300</th>\n",
              "      <td>11883</td>\n",
              "      <td>“RACIST” CONSERVATIVE Viewers Of The O’Reilly ...</td>\n",
              "      <td>Bill O Reilly reacted to the approximate $500,...</td>\n",
              "      <td>politics</td>\n",
              "      <td>Jan 17, 2017</td>\n",
              "      <td>1</td>\n",
              "    </tr>\n",
              "    <tr>\n",
              "      <th>19949</th>\n",
              "      <td>19949</td>\n",
              "      <td>Spain will not rule out exceptional measures o...</td>\n",
              "      <td>MADRID (Reuters) - Spain s central government ...</td>\n",
              "      <td>worldnews</td>\n",
              "      <td>September 15, 2017</td>\n",
              "      <td>0</td>\n",
              "    </tr>\n",
              "    <tr>\n",
              "      <th>23502</th>\n",
              "      <td>2085</td>\n",
              "      <td>Stephen Hawking Says He’s Afraid Of Visiting ...</td>\n",
              "      <td>Stephen Hawking might be one of the most brill...</td>\n",
              "      <td>News</td>\n",
              "      <td>March 20, 2017</td>\n",
              "      <td>1</td>\n",
              "    </tr>\n",
              "    <tr>\n",
              "      <th>41363</th>\n",
              "      <td>19946</td>\n",
              "      <td>VIDEO: BLACK MAN Tells Reporter They’re Taking...</td>\n",
              "      <td>Unidentified man helping to organize protests ...</td>\n",
              "      <td>left-news</td>\n",
              "      <td>Sep 21, 2016</td>\n",
              "      <td>1</td>\n",
              "    </tr>\n",
              "    <tr>\n",
              "      <th>44087</th>\n",
              "      <td>22670</td>\n",
              "      <td>Plastic Persona: Behind the Scenes of the Ted ...</td>\n",
              "      <td>21st Century Wire says Most people accept that...</td>\n",
              "      <td>US_News</td>\n",
              "      <td>February 4, 2016</td>\n",
              "      <td>1</td>\n",
              "    </tr>\n",
              "  </tbody>\n",
              "</table>\n",
              "</div>"
            ],
            "text/plain": [
              "       index  ... isfake\n",
              "33300  11883  ...      1\n",
              "19949  19949  ...      0\n",
              "23502   2085  ...      1\n",
              "41363  19946  ...      1\n",
              "44087  22670  ...      1\n",
              "\n",
              "[5 rows x 6 columns]"
            ]
          },
          "metadata": {
            "tags": []
          },
          "execution_count": 28
        }
      ]
    },
    {
      "cell_type": "code",
      "metadata": {
        "colab": {
          "base_uri": "https://localhost:8080/"
        },
        "id": "dB9PqeOPZvRS",
        "outputId": "f5f989e6-423d-4e75-c242-68f9bdc5ef3d"
      },
      "source": [
        "df.duplicated().sum()"
      ],
      "execution_count": 29,
      "outputs": [
        {
          "output_type": "execute_result",
          "data": {
            "text/plain": [
              "0"
            ]
          },
          "metadata": {
            "tags": []
          },
          "execution_count": 29
        }
      ]
    },
    {
      "cell_type": "code",
      "metadata": {
        "id": "soM2VsLoc71t"
      },
      "source": [
        "df = df.drop(['date', 'subject'], axis=1)\n",
        "\n",
        "from sklearn.model_selection import train_test_split\n",
        "train, test = train_test_split(df, test_size=0.2, random_state=42)\n",
        "X_train = train.drop('isfake', axis=1)\n",
        "y_train = train['isfake']\n",
        "X_test = test.drop('isfake', axis=1)\n",
        "y_test = test['isfake']"
      ],
      "execution_count": 30,
      "outputs": []
    },
    {
      "cell_type": "code",
      "metadata": {
        "colab": {
          "base_uri": "https://localhost:8080/"
        },
        "id": "U4qNoEpkZ5iE",
        "outputId": "17ffb27f-4758-46d3-b34b-ee40f580fdf3"
      },
      "source": [
        "nltk.download(\"stopwords\")\n",
        "\n",
        "from nltk.corpus import stopwords\n",
        "stop_words = stopwords.words('english')\n",
        "stop_words.extend(['from', 'subject', 're', 'edu', 'use'])"
      ],
      "execution_count": 33,
      "outputs": [
        {
          "output_type": "stream",
          "text": [
            "[nltk_data] Downloading package stopwords to /root/nltk_data...\n",
            "[nltk_data]   Package stopwords is already up-to-date!\n"
          ],
          "name": "stdout"
        }
      ]
    },
    {
      "cell_type": "code",
      "metadata": {
        "colab": {
          "base_uri": "https://localhost:8080/"
        },
        "id": "iqq2TR4ydiJ2",
        "outputId": "f46c32b0-2f7d-4f79-91e0-e3a76bc36dcb"
      },
      "source": [
        "y_train.value_counts()"
      ],
      "execution_count": 34,
      "outputs": [
        {
          "output_type": "execute_result",
          "data": {
            "text/plain": [
              "1    18748\n",
              "0    17170\n",
              "Name: isfake, dtype: int64"
            ]
          },
          "metadata": {
            "tags": []
          },
          "execution_count": 34
        }
      ]
    },
    {
      "cell_type": "code",
      "metadata": {
        "colab": {
          "base_uri": "https://localhost:8080/"
        },
        "id": "KHCO5E_udkVe",
        "outputId": "8b40db22-7b61-4847-86b6-3c726b827f44"
      },
      "source": [
        "y_test.value_counts()"
      ],
      "execution_count": 35,
      "outputs": [
        {
          "output_type": "execute_result",
          "data": {
            "text/plain": [
              "1    4733\n",
              "0    4247\n",
              "Name: isfake, dtype: int64"
            ]
          },
          "metadata": {
            "tags": []
          },
          "execution_count": 35
        }
      ]
    },
    {
      "cell_type": "code",
      "metadata": {
        "id": "IWMA9lPgdkjo"
      },
      "source": [
        "train_news = X_train.loc[(y_train==0),:]\n",
        "train_fake = X_train.loc[(y_train==1),:]"
      ],
      "execution_count": 36,
      "outputs": []
    },
    {
      "cell_type": "code",
      "metadata": {
        "colab": {
          "base_uri": "https://localhost:8080/"
        },
        "id": "WuFQZNAedkyZ",
        "outputId": "4b061e7c-f4da-4780-801d-9da6d589a5b5"
      },
      "source": [
        "def LD_Measure(data1, data2, feature):\n",
        "    #covert everything to lowercase\n",
        "    column1 = data1[feature].str.lower() \n",
        "    #join all text columns\n",
        "    text1 = ' '.join(column1)\n",
        "    #drop punctuation\n",
        "    exclude = set(string.punctuation)\n",
        "    words1 = ''.join(char for char in text1 if char not in exclude)\n",
        "    # create a list of words instead of one huge text\n",
        "    words_splitted1 = words1.split()\n",
        "    \n",
        "    # analogously\n",
        "    column2 = data2[feature].str.lower() \n",
        "    text2 = ' '.join(column2)\n",
        "    words2 = ''.join(char for char in text2 if char not in exclude)\n",
        "    words_splitted2 = words2.split()\n",
        "    # lexical diversity measure\n",
        "\n",
        "    ld_1 = len(set(words_splitted1)) / len(words_splitted1)\n",
        "    ld_2 = len(set(words_splitted2)) / len(words_splitted2)\n",
        "    return ld_1, ld_2\n",
        "\n",
        "ld_train, ld_fake = LD_Measure(train_news, train_fake, \"text\")\n",
        "\n",
        "print(f'Real News LD: {ld_train}')\n",
        "print(f'Fake News LD: {ld_fake}')"
      ],
      "execution_count": 61,
      "outputs": [
        {
          "output_type": "stream",
          "text": [
            "Real News LD: 0.01388927542895864\n",
            "Fake News LD: 0.02110787214681929\n"
          ],
          "name": "stdout"
        }
      ]
    },
    {
      "cell_type": "code",
      "metadata": {
        "colab": {
          "base_uri": "https://localhost:8080/"
        },
        "id": "3bMTG1MRaBH2",
        "outputId": "82e0408c-79d1-471f-a780-cb33ab952f52"
      },
      "source": [
        "from wordcloud import STOPWORDS\n",
        "\n",
        "stopwords = set(STOPWORDS)\n",
        "\n",
        "def common_tokens_title(data, feature, name):\n",
        "    column = data[feature].str.lower() \n",
        "    text = ' '.join(column)\n",
        "    exclude = set(string.punctuation)\n",
        "    words = ''.join(char for char in text if char not in exclude)\n",
        "    words_splitted = words.split()\n",
        "    words_stopped = [word for word in words_splitted if not word in stopwords]\n",
        "    print(f'{name}:\\n{pd.DataFrame(nltk.FreqDist(words_stopped).most_common(10))[0]}')\n",
        "    \n",
        "common_tokens_title(train_news, 'title', 'Most common descriptive words in Real News Titles')\n",
        "print('\\n')\n",
        "common_tokens_title(train_fake, 'title', 'Most common descriptive words in Fake News Titles')"
      ],
      "execution_count": 40,
      "outputs": [
        {
          "output_type": "stream",
          "text": [
            "Most common descriptive words in Real News Titles:\n",
            "0     trump\n",
            "1        us\n",
            "2      says\n",
            "3     house\n",
            "4     north\n",
            "5       new\n",
            "6     white\n",
            "7    russia\n",
            "8     korea\n",
            "9    senate\n",
            "Name: 0, dtype: object\n",
            "\n",
            "\n",
            "Most common descriptive words in Fake News Titles:\n",
            "0        video\n",
            "1        trump\n",
            "2        watch\n",
            "3        obama\n",
            "4      hillary\n",
            "5      trump’s\n",
            "6    president\n",
            "7           us\n",
            "8      clinton\n",
            "9         will\n",
            "Name: 0, dtype: object\n"
          ],
          "name": "stdout"
        }
      ]
    },
    {
      "cell_type": "code",
      "metadata": {
        "colab": {
          "base_uri": "https://localhost:8080/"
        },
        "id": "ZMT2l3uCaREq",
        "outputId": "78c32925-1b6c-4d62-8118-1facc0fd225c"
      },
      "source": [
        "import regex as re\n",
        "\n",
        "# let's begin with a helper function to count punctuation\n",
        "def count_punctuation(text):\n",
        "    peri = re.subn(r\"\\.\", '', text)[1]\n",
        "    comm = re.subn(r\"\\,\", '', text)[1]\n",
        "    ques = re.subn(r\"\\?\", '', text)[1]\n",
        "    excl = re.subn(r\"\\!\", '', text)[1]\n",
        "    return [peri,comm, ques, excl]\n",
        "    \n",
        "count_punctuation('...alph!a.beta.gamma...??')"
      ],
      "execution_count": 41,
      "outputs": [
        {
          "output_type": "execute_result",
          "data": {
            "text/plain": [
              "[8, 0, 2, 1]"
            ]
          },
          "metadata": {
            "tags": []
          },
          "execution_count": 41
        }
      ]
    },
    {
      "cell_type": "code",
      "metadata": {
        "colab": {
          "base_uri": "https://localhost:8080/",
          "height": 419
        },
        "id": "zWkEGbahabBY",
        "outputId": "914ecead-4410-44e0-a639-e31fc719fba7"
      },
      "source": [
        "def create_punctuation_df(dataset, feature):\n",
        "    return dataset.apply(lambda row: pd.Series({'peri_' + feature:count_punctuation(row[feature])[0], \n",
        "                                                       'comm_' + feature:count_punctuation(row[feature])[1],\n",
        "                                                      'ques_' + feature:count_punctuation(row[feature])[2],\n",
        "                                                      'excl_' + feature:count_punctuation(row[feature])[3]}), axis=1)\n",
        "\n",
        "punctuation_train_title = create_punctuation_df(train, 'title')\n",
        "punctuation_test_title = create_punctuation_df(test, 'title')\n",
        "punctuation_train_text = create_punctuation_df(train, 'text')\n",
        "punctuation_test_text = create_punctuation_df(test, 'text')\n",
        "punctuation_train_text "
      ],
      "execution_count": 42,
      "outputs": [
        {
          "output_type": "execute_result",
          "data": {
            "text/html": [
              "<div>\n",
              "<style scoped>\n",
              "    .dataframe tbody tr th:only-of-type {\n",
              "        vertical-align: middle;\n",
              "    }\n",
              "\n",
              "    .dataframe tbody tr th {\n",
              "        vertical-align: top;\n",
              "    }\n",
              "\n",
              "    .dataframe thead th {\n",
              "        text-align: right;\n",
              "    }\n",
              "</style>\n",
              "<table border=\"1\" class=\"dataframe\">\n",
              "  <thead>\n",
              "    <tr style=\"text-align: right;\">\n",
              "      <th></th>\n",
              "      <th>peri_text</th>\n",
              "      <th>comm_text</th>\n",
              "      <th>ques_text</th>\n",
              "      <th>excl_text</th>\n",
              "    </tr>\n",
              "  </thead>\n",
              "  <tbody>\n",
              "    <tr>\n",
              "      <th>4127</th>\n",
              "      <td>24</td>\n",
              "      <td>14</td>\n",
              "      <td>0</td>\n",
              "      <td>0</td>\n",
              "    </tr>\n",
              "    <tr>\n",
              "      <th>40342</th>\n",
              "      <td>12</td>\n",
              "      <td>20</td>\n",
              "      <td>0</td>\n",
              "      <td>0</td>\n",
              "    </tr>\n",
              "    <tr>\n",
              "      <th>2710</th>\n",
              "      <td>23</td>\n",
              "      <td>27</td>\n",
              "      <td>0</td>\n",
              "      <td>0</td>\n",
              "    </tr>\n",
              "    <tr>\n",
              "      <th>9199</th>\n",
              "      <td>13</td>\n",
              "      <td>13</td>\n",
              "      <td>0</td>\n",
              "      <td>0</td>\n",
              "    </tr>\n",
              "    <tr>\n",
              "      <th>769</th>\n",
              "      <td>25</td>\n",
              "      <td>20</td>\n",
              "      <td>0</td>\n",
              "      <td>0</td>\n",
              "    </tr>\n",
              "    <tr>\n",
              "      <th>...</th>\n",
              "      <td>...</td>\n",
              "      <td>...</td>\n",
              "      <td>...</td>\n",
              "      <td>...</td>\n",
              "    </tr>\n",
              "    <tr>\n",
              "      <th>19783</th>\n",
              "      <td>2</td>\n",
              "      <td>6</td>\n",
              "      <td>0</td>\n",
              "      <td>0</td>\n",
              "    </tr>\n",
              "    <tr>\n",
              "      <th>34183</th>\n",
              "      <td>28</td>\n",
              "      <td>36</td>\n",
              "      <td>1</td>\n",
              "      <td>1</td>\n",
              "    </tr>\n",
              "    <tr>\n",
              "      <th>7029</th>\n",
              "      <td>25</td>\n",
              "      <td>21</td>\n",
              "      <td>0</td>\n",
              "      <td>0</td>\n",
              "    </tr>\n",
              "    <tr>\n",
              "      <th>4044</th>\n",
              "      <td>62</td>\n",
              "      <td>61</td>\n",
              "      <td>0</td>\n",
              "      <td>0</td>\n",
              "    </tr>\n",
              "    <tr>\n",
              "      <th>44191</th>\n",
              "      <td>5</td>\n",
              "      <td>12</td>\n",
              "      <td>0</td>\n",
              "      <td>1</td>\n",
              "    </tr>\n",
              "  </tbody>\n",
              "</table>\n",
              "<p>35918 rows × 4 columns</p>\n",
              "</div>"
            ],
            "text/plain": [
              "       peri_text  comm_text  ques_text  excl_text\n",
              "4127          24         14          0          0\n",
              "40342         12         20          0          0\n",
              "2710          23         27          0          0\n",
              "9199          13         13          0          0\n",
              "769           25         20          0          0\n",
              "...          ...        ...        ...        ...\n",
              "19783          2          6          0          0\n",
              "34183         28         36          1          1\n",
              "7029          25         21          0          0\n",
              "4044          62         61          0          0\n",
              "44191          5         12          0          1\n",
              "\n",
              "[35918 rows x 4 columns]"
            ]
          },
          "metadata": {
            "tags": []
          },
          "execution_count": 42
        }
      ]
    },
    {
      "cell_type": "code",
      "metadata": {
        "colab": {
          "base_uri": "https://localhost:8080/",
          "height": 419
        },
        "id": "gVEz-KrZgO01",
        "outputId": "0183476c-5973-4bd0-caa4-69020225b034"
      },
      "source": [
        "# count the text length per row for both features (title and text)\n",
        "# and store the information in a dataframe\n",
        "def create_len_df(dataset):\n",
        "    return dataset.apply(lambda row: pd.Series({'length_title':len(row['title']),\n",
        "                                               'length_text':len(row['text'])}), axis=1)\n",
        "\n",
        "len_train = create_len_df(train)\n",
        "len_test = create_len_df(test)\n",
        "\n",
        "len_train"
      ],
      "execution_count": 43,
      "outputs": [
        {
          "output_type": "execute_result",
          "data": {
            "text/html": [
              "<div>\n",
              "<style scoped>\n",
              "    .dataframe tbody tr th:only-of-type {\n",
              "        vertical-align: middle;\n",
              "    }\n",
              "\n",
              "    .dataframe tbody tr th {\n",
              "        vertical-align: top;\n",
              "    }\n",
              "\n",
              "    .dataframe thead th {\n",
              "        text-align: right;\n",
              "    }\n",
              "</style>\n",
              "<table border=\"1\" class=\"dataframe\">\n",
              "  <thead>\n",
              "    <tr style=\"text-align: right;\">\n",
              "      <th></th>\n",
              "      <th>length_title</th>\n",
              "      <th>length_text</th>\n",
              "    </tr>\n",
              "  </thead>\n",
              "  <tbody>\n",
              "    <tr>\n",
              "      <th>4127</th>\n",
              "      <td>63</td>\n",
              "      <td>2723</td>\n",
              "    </tr>\n",
              "    <tr>\n",
              "      <th>40342</th>\n",
              "      <td>130</td>\n",
              "      <td>2019</td>\n",
              "    </tr>\n",
              "    <tr>\n",
              "      <th>2710</th>\n",
              "      <td>72</td>\n",
              "      <td>3151</td>\n",
              "    </tr>\n",
              "    <tr>\n",
              "      <th>9199</th>\n",
              "      <td>46</td>\n",
              "      <td>1998</td>\n",
              "    </tr>\n",
              "    <tr>\n",
              "      <th>769</th>\n",
              "      <td>63</td>\n",
              "      <td>2452</td>\n",
              "    </tr>\n",
              "    <tr>\n",
              "      <th>...</th>\n",
              "      <td>...</td>\n",
              "      <td>...</td>\n",
              "    </tr>\n",
              "    <tr>\n",
              "      <th>19783</th>\n",
              "      <td>60</td>\n",
              "      <td>518</td>\n",
              "    </tr>\n",
              "    <tr>\n",
              "      <th>34183</th>\n",
              "      <td>96</td>\n",
              "      <td>3682</td>\n",
              "    </tr>\n",
              "    <tr>\n",
              "      <th>7029</th>\n",
              "      <td>65</td>\n",
              "      <td>2594</td>\n",
              "    </tr>\n",
              "    <tr>\n",
              "      <th>4044</th>\n",
              "      <td>85</td>\n",
              "      <td>6611</td>\n",
              "    </tr>\n",
              "    <tr>\n",
              "      <th>44191</th>\n",
              "      <td>54</td>\n",
              "      <td>1127</td>\n",
              "    </tr>\n",
              "  </tbody>\n",
              "</table>\n",
              "<p>35918 rows × 2 columns</p>\n",
              "</div>"
            ],
            "text/plain": [
              "       length_title  length_text\n",
              "4127             63         2723\n",
              "40342           130         2019\n",
              "2710             72         3151\n",
              "9199             46         1998\n",
              "769              63         2452\n",
              "...             ...          ...\n",
              "19783            60          518\n",
              "34183            96         3682\n",
              "7029             65         2594\n",
              "4044             85         6611\n",
              "44191            54         1127\n",
              "\n",
              "[35918 rows x 2 columns]"
            ]
          },
          "metadata": {
            "tags": []
          },
          "execution_count": 43
        }
      ]
    },
    {
      "cell_type": "code",
      "metadata": {
        "colab": {
          "base_uri": "https://localhost:8080/",
          "height": 419
        },
        "id": "WHOJAYGpgRgL",
        "outputId": "3992c720-49f9-416c-c0e9-651e3cee94c2"
      },
      "source": [
        "def create_num_words_df(dataset):\n",
        "    return dataset.apply(lambda row: pd.Series({'num_words_title':len(row['title'].split())}), axis=1)\n",
        "\n",
        "num_words_train = create_num_words_df(train)\n",
        "num_words_test = create_num_words_df(test)\n",
        "\n",
        "num_words_train"
      ],
      "execution_count": 44,
      "outputs": [
        {
          "output_type": "execute_result",
          "data": {
            "text/html": [
              "<div>\n",
              "<style scoped>\n",
              "    .dataframe tbody tr th:only-of-type {\n",
              "        vertical-align: middle;\n",
              "    }\n",
              "\n",
              "    .dataframe tbody tr th {\n",
              "        vertical-align: top;\n",
              "    }\n",
              "\n",
              "    .dataframe thead th {\n",
              "        text-align: right;\n",
              "    }\n",
              "</style>\n",
              "<table border=\"1\" class=\"dataframe\">\n",
              "  <thead>\n",
              "    <tr style=\"text-align: right;\">\n",
              "      <th></th>\n",
              "      <th>num_words_title</th>\n",
              "    </tr>\n",
              "  </thead>\n",
              "  <tbody>\n",
              "    <tr>\n",
              "      <th>4127</th>\n",
              "      <td>10</td>\n",
              "    </tr>\n",
              "    <tr>\n",
              "      <th>40342</th>\n",
              "      <td>19</td>\n",
              "    </tr>\n",
              "    <tr>\n",
              "      <th>2710</th>\n",
              "      <td>11</td>\n",
              "    </tr>\n",
              "    <tr>\n",
              "      <th>9199</th>\n",
              "      <td>8</td>\n",
              "    </tr>\n",
              "    <tr>\n",
              "      <th>769</th>\n",
              "      <td>8</td>\n",
              "    </tr>\n",
              "    <tr>\n",
              "      <th>...</th>\n",
              "      <td>...</td>\n",
              "    </tr>\n",
              "    <tr>\n",
              "      <th>19783</th>\n",
              "      <td>10</td>\n",
              "    </tr>\n",
              "    <tr>\n",
              "      <th>34183</th>\n",
              "      <td>14</td>\n",
              "    </tr>\n",
              "    <tr>\n",
              "      <th>7029</th>\n",
              "      <td>10</td>\n",
              "    </tr>\n",
              "    <tr>\n",
              "      <th>4044</th>\n",
              "      <td>12</td>\n",
              "    </tr>\n",
              "    <tr>\n",
              "      <th>44191</th>\n",
              "      <td>11</td>\n",
              "    </tr>\n",
              "  </tbody>\n",
              "</table>\n",
              "<p>35918 rows × 1 columns</p>\n",
              "</div>"
            ],
            "text/plain": [
              "       num_words_title\n",
              "4127                10\n",
              "40342               19\n",
              "2710                11\n",
              "9199                 8\n",
              "769                  8\n",
              "...                ...\n",
              "19783               10\n",
              "34183               14\n",
              "7029                10\n",
              "4044                12\n",
              "44191               11\n",
              "\n",
              "[35918 rows x 1 columns]"
            ]
          },
          "metadata": {
            "tags": []
          },
          "execution_count": 44
        }
      ]
    },
    {
      "cell_type": "code",
      "metadata": {
        "colab": {
          "base_uri": "https://localhost:8080/",
          "height": 419
        },
        "id": "-ZWoSdq8gTJq",
        "outputId": "677f44bf-f27b-4461-91f3-dc423a2e8eb6"
      },
      "source": [
        "def create_title_ratio_df(dataset):\n",
        "    return dataset.apply(lambda row: pd.Series({'title_ratio':len(row['title'])/(len(row['title']) + len(row['text']))}), axis=1)\n",
        "\n",
        "title_ratio_train = create_title_ratio_df(train)\n",
        "title_ratio_test = create_title_ratio_df(test)\n",
        "\n",
        "title_ratio_train"
      ],
      "execution_count": 45,
      "outputs": [
        {
          "output_type": "execute_result",
          "data": {
            "text/html": [
              "<div>\n",
              "<style scoped>\n",
              "    .dataframe tbody tr th:only-of-type {\n",
              "        vertical-align: middle;\n",
              "    }\n",
              "\n",
              "    .dataframe tbody tr th {\n",
              "        vertical-align: top;\n",
              "    }\n",
              "\n",
              "    .dataframe thead th {\n",
              "        text-align: right;\n",
              "    }\n",
              "</style>\n",
              "<table border=\"1\" class=\"dataframe\">\n",
              "  <thead>\n",
              "    <tr style=\"text-align: right;\">\n",
              "      <th></th>\n",
              "      <th>title_ratio</th>\n",
              "    </tr>\n",
              "  </thead>\n",
              "  <tbody>\n",
              "    <tr>\n",
              "      <th>4127</th>\n",
              "      <td>0.022613</td>\n",
              "    </tr>\n",
              "    <tr>\n",
              "      <th>40342</th>\n",
              "      <td>0.060493</td>\n",
              "    </tr>\n",
              "    <tr>\n",
              "      <th>2710</th>\n",
              "      <td>0.022339</td>\n",
              "    </tr>\n",
              "    <tr>\n",
              "      <th>9199</th>\n",
              "      <td>0.022505</td>\n",
              "    </tr>\n",
              "    <tr>\n",
              "      <th>769</th>\n",
              "      <td>0.025050</td>\n",
              "    </tr>\n",
              "    <tr>\n",
              "      <th>...</th>\n",
              "      <td>...</td>\n",
              "    </tr>\n",
              "    <tr>\n",
              "      <th>19783</th>\n",
              "      <td>0.103806</td>\n",
              "    </tr>\n",
              "    <tr>\n",
              "      <th>34183</th>\n",
              "      <td>0.025410</td>\n",
              "    </tr>\n",
              "    <tr>\n",
              "      <th>7029</th>\n",
              "      <td>0.024445</td>\n",
              "    </tr>\n",
              "    <tr>\n",
              "      <th>4044</th>\n",
              "      <td>0.012694</td>\n",
              "    </tr>\n",
              "    <tr>\n",
              "      <th>44191</th>\n",
              "      <td>0.045724</td>\n",
              "    </tr>\n",
              "  </tbody>\n",
              "</table>\n",
              "<p>35918 rows × 1 columns</p>\n",
              "</div>"
            ],
            "text/plain": [
              "       title_ratio\n",
              "4127      0.022613\n",
              "40342     0.060493\n",
              "2710      0.022339\n",
              "9199      0.022505\n",
              "769       0.025050\n",
              "...            ...\n",
              "19783     0.103806\n",
              "34183     0.025410\n",
              "7029      0.024445\n",
              "4044      0.012694\n",
              "44191     0.045724\n",
              "\n",
              "[35918 rows x 1 columns]"
            ]
          },
          "metadata": {
            "tags": []
          },
          "execution_count": 45
        }
      ]
    },
    {
      "cell_type": "code",
      "metadata": {
        "colab": {
          "base_uri": "https://localhost:8080/",
          "height": 419
        },
        "id": "0NWU-UJUgVRY",
        "outputId": "df7224da-7435-4d52-f88e-eb6fb3e9f026"
      },
      "source": [
        "X_train_punct_len = pd.concat([punctuation_train_title, \n",
        "                               punctuation_train_text, \n",
        "                               len_train, \n",
        "                               num_words_train, \n",
        "                               title_ratio_train], \n",
        "                              axis=1)\n",
        "\n",
        "X_test_punct_len = pd.concat([punctuation_test_title, \n",
        "                              punctuation_test_text, \n",
        "                              len_test, \n",
        "                              num_words_test, \n",
        "                              title_ratio_test], \n",
        "                             axis=1)\n",
        "\n",
        "X_train_punct_len"
      ],
      "execution_count": 96,
      "outputs": [
        {
          "output_type": "execute_result",
          "data": {
            "text/html": [
              "<div>\n",
              "<style scoped>\n",
              "    .dataframe tbody tr th:only-of-type {\n",
              "        vertical-align: middle;\n",
              "    }\n",
              "\n",
              "    .dataframe tbody tr th {\n",
              "        vertical-align: top;\n",
              "    }\n",
              "\n",
              "    .dataframe thead th {\n",
              "        text-align: right;\n",
              "    }\n",
              "</style>\n",
              "<table border=\"1\" class=\"dataframe\">\n",
              "  <thead>\n",
              "    <tr style=\"text-align: right;\">\n",
              "      <th></th>\n",
              "      <th>peri_title</th>\n",
              "      <th>comm_title</th>\n",
              "      <th>ques_title</th>\n",
              "      <th>excl_title</th>\n",
              "      <th>peri_text</th>\n",
              "      <th>comm_text</th>\n",
              "      <th>ques_text</th>\n",
              "      <th>excl_text</th>\n",
              "      <th>length_title</th>\n",
              "      <th>length_text</th>\n",
              "      <th>num_words_title</th>\n",
              "      <th>title_ratio</th>\n",
              "    </tr>\n",
              "  </thead>\n",
              "  <tbody>\n",
              "    <tr>\n",
              "      <th>4127</th>\n",
              "      <td>2</td>\n",
              "      <td>1</td>\n",
              "      <td>0</td>\n",
              "      <td>0</td>\n",
              "      <td>24</td>\n",
              "      <td>14</td>\n",
              "      <td>0</td>\n",
              "      <td>0</td>\n",
              "      <td>63</td>\n",
              "      <td>2723</td>\n",
              "      <td>10</td>\n",
              "      <td>0.022613</td>\n",
              "    </tr>\n",
              "    <tr>\n",
              "      <th>40342</th>\n",
              "      <td>0</td>\n",
              "      <td>0</td>\n",
              "      <td>0</td>\n",
              "      <td>0</td>\n",
              "      <td>12</td>\n",
              "      <td>20</td>\n",
              "      <td>0</td>\n",
              "      <td>0</td>\n",
              "      <td>130</td>\n",
              "      <td>2019</td>\n",
              "      <td>19</td>\n",
              "      <td>0.060493</td>\n",
              "    </tr>\n",
              "    <tr>\n",
              "      <th>2710</th>\n",
              "      <td>0</td>\n",
              "      <td>0</td>\n",
              "      <td>0</td>\n",
              "      <td>0</td>\n",
              "      <td>23</td>\n",
              "      <td>27</td>\n",
              "      <td>0</td>\n",
              "      <td>0</td>\n",
              "      <td>72</td>\n",
              "      <td>3151</td>\n",
              "      <td>11</td>\n",
              "      <td>0.022339</td>\n",
              "    </tr>\n",
              "    <tr>\n",
              "      <th>9199</th>\n",
              "      <td>0</td>\n",
              "      <td>0</td>\n",
              "      <td>0</td>\n",
              "      <td>0</td>\n",
              "      <td>13</td>\n",
              "      <td>13</td>\n",
              "      <td>0</td>\n",
              "      <td>0</td>\n",
              "      <td>46</td>\n",
              "      <td>1998</td>\n",
              "      <td>8</td>\n",
              "      <td>0.022505</td>\n",
              "    </tr>\n",
              "    <tr>\n",
              "      <th>769</th>\n",
              "      <td>2</td>\n",
              "      <td>0</td>\n",
              "      <td>0</td>\n",
              "      <td>0</td>\n",
              "      <td>25</td>\n",
              "      <td>20</td>\n",
              "      <td>0</td>\n",
              "      <td>0</td>\n",
              "      <td>63</td>\n",
              "      <td>2452</td>\n",
              "      <td>8</td>\n",
              "      <td>0.025050</td>\n",
              "    </tr>\n",
              "    <tr>\n",
              "      <th>...</th>\n",
              "      <td>...</td>\n",
              "      <td>...</td>\n",
              "      <td>...</td>\n",
              "      <td>...</td>\n",
              "      <td>...</td>\n",
              "      <td>...</td>\n",
              "      <td>...</td>\n",
              "      <td>...</td>\n",
              "      <td>...</td>\n",
              "      <td>...</td>\n",
              "      <td>...</td>\n",
              "      <td>...</td>\n",
              "    </tr>\n",
              "    <tr>\n",
              "      <th>19783</th>\n",
              "      <td>0</td>\n",
              "      <td>0</td>\n",
              "      <td>0</td>\n",
              "      <td>0</td>\n",
              "      <td>2</td>\n",
              "      <td>6</td>\n",
              "      <td>0</td>\n",
              "      <td>0</td>\n",
              "      <td>60</td>\n",
              "      <td>518</td>\n",
              "      <td>10</td>\n",
              "      <td>0.103806</td>\n",
              "    </tr>\n",
              "    <tr>\n",
              "      <th>34183</th>\n",
              "      <td>0</td>\n",
              "      <td>0</td>\n",
              "      <td>0</td>\n",
              "      <td>0</td>\n",
              "      <td>28</td>\n",
              "      <td>36</td>\n",
              "      <td>1</td>\n",
              "      <td>1</td>\n",
              "      <td>96</td>\n",
              "      <td>3682</td>\n",
              "      <td>14</td>\n",
              "      <td>0.025410</td>\n",
              "    </tr>\n",
              "    <tr>\n",
              "      <th>7029</th>\n",
              "      <td>2</td>\n",
              "      <td>0</td>\n",
              "      <td>0</td>\n",
              "      <td>0</td>\n",
              "      <td>25</td>\n",
              "      <td>21</td>\n",
              "      <td>0</td>\n",
              "      <td>0</td>\n",
              "      <td>65</td>\n",
              "      <td>2594</td>\n",
              "      <td>10</td>\n",
              "      <td>0.024445</td>\n",
              "    </tr>\n",
              "    <tr>\n",
              "      <th>4044</th>\n",
              "      <td>0</td>\n",
              "      <td>0</td>\n",
              "      <td>0</td>\n",
              "      <td>0</td>\n",
              "      <td>62</td>\n",
              "      <td>61</td>\n",
              "      <td>0</td>\n",
              "      <td>0</td>\n",
              "      <td>85</td>\n",
              "      <td>6611</td>\n",
              "      <td>12</td>\n",
              "      <td>0.012694</td>\n",
              "    </tr>\n",
              "    <tr>\n",
              "      <th>44191</th>\n",
              "      <td>0</td>\n",
              "      <td>0</td>\n",
              "      <td>0</td>\n",
              "      <td>0</td>\n",
              "      <td>5</td>\n",
              "      <td>12</td>\n",
              "      <td>0</td>\n",
              "      <td>1</td>\n",
              "      <td>54</td>\n",
              "      <td>1127</td>\n",
              "      <td>11</td>\n",
              "      <td>0.045724</td>\n",
              "    </tr>\n",
              "  </tbody>\n",
              "</table>\n",
              "<p>35918 rows × 12 columns</p>\n",
              "</div>"
            ],
            "text/plain": [
              "       peri_title  comm_title  ...  num_words_title  title_ratio\n",
              "4127            2           1  ...               10     0.022613\n",
              "40342           0           0  ...               19     0.060493\n",
              "2710            0           0  ...               11     0.022339\n",
              "9199            0           0  ...                8     0.022505\n",
              "769             2           0  ...                8     0.025050\n",
              "...           ...         ...  ...              ...          ...\n",
              "19783           0           0  ...               10     0.103806\n",
              "34183           0           0  ...               14     0.025410\n",
              "7029            2           0  ...               10     0.024445\n",
              "4044            0           0  ...               12     0.012694\n",
              "44191           0           0  ...               11     0.045724\n",
              "\n",
              "[35918 rows x 12 columns]"
            ]
          },
          "metadata": {
            "tags": []
          },
          "execution_count": 96
        }
      ]
    },
    {
      "cell_type": "code",
      "metadata": {
        "colab": {
          "base_uri": "https://localhost:8080/",
          "height": 297
        },
        "id": "xVa9N5tEqurN",
        "outputId": "fd63c091-8c07-4774-ac4b-22cd3c289a2f"
      },
      "source": [
        "X_test_punct_len.describe()"
      ],
      "execution_count": 78,
      "outputs": [
        {
          "output_type": "execute_result",
          "data": {
            "text/html": [
              "<div>\n",
              "<style scoped>\n",
              "    .dataframe tbody tr th:only-of-type {\n",
              "        vertical-align: middle;\n",
              "    }\n",
              "\n",
              "    .dataframe tbody tr th {\n",
              "        vertical-align: top;\n",
              "    }\n",
              "\n",
              "    .dataframe thead th {\n",
              "        text-align: right;\n",
              "    }\n",
              "</style>\n",
              "<table border=\"1\" class=\"dataframe\">\n",
              "  <thead>\n",
              "    <tr style=\"text-align: right;\">\n",
              "      <th></th>\n",
              "      <th>peri_title</th>\n",
              "      <th>comm_title</th>\n",
              "      <th>ques_title</th>\n",
              "      <th>excl_title</th>\n",
              "      <th>peri_text</th>\n",
              "      <th>comm_text</th>\n",
              "      <th>ques_text</th>\n",
              "      <th>excl_text</th>\n",
              "      <th>length_title</th>\n",
              "      <th>length_text</th>\n",
              "      <th>num_words_title</th>\n",
              "      <th>title_ratio</th>\n",
              "    </tr>\n",
              "  </thead>\n",
              "  <tbody>\n",
              "    <tr>\n",
              "      <th>count</th>\n",
              "      <td>8980.000000</td>\n",
              "      <td>8980.000000</td>\n",
              "      <td>8980.000000</td>\n",
              "      <td>8980.000000</td>\n",
              "      <td>8980.000000</td>\n",
              "      <td>8980.000000</td>\n",
              "      <td>8980.000000</td>\n",
              "      <td>8980.000000</td>\n",
              "      <td>8980.000000</td>\n",
              "      <td>8980.000000</td>\n",
              "      <td>8980.000000</td>\n",
              "      <td>8980.000000</td>\n",
              "    </tr>\n",
              "    <tr>\n",
              "      <th>mean</th>\n",
              "      <td>0.262918</td>\n",
              "      <td>0.222494</td>\n",
              "      <td>0.043318</td>\n",
              "      <td>0.083408</td>\n",
              "      <td>20.762918</td>\n",
              "      <td>20.100891</td>\n",
              "      <td>0.651893</td>\n",
              "      <td>0.393541</td>\n",
              "      <td>80.035635</td>\n",
              "      <td>2451.130512</td>\n",
              "      <td>12.438530</td>\n",
              "      <td>0.073233</td>\n",
              "    </tr>\n",
              "    <tr>\n",
              "      <th>std</th>\n",
              "      <td>0.686063</td>\n",
              "      <td>0.500969</td>\n",
              "      <td>0.212157</td>\n",
              "      <td>0.298589</td>\n",
              "      <td>17.523498</td>\n",
              "      <td>19.500097</td>\n",
              "      <td>1.548698</td>\n",
              "      <td>1.301315</td>\n",
              "      <td>25.121477</td>\n",
              "      <td>2084.810750</td>\n",
              "      <td>4.083289</td>\n",
              "      <td>0.140026</td>\n",
              "    </tr>\n",
              "    <tr>\n",
              "      <th>min</th>\n",
              "      <td>0.000000</td>\n",
              "      <td>0.000000</td>\n",
              "      <td>0.000000</td>\n",
              "      <td>0.000000</td>\n",
              "      <td>0.000000</td>\n",
              "      <td>0.000000</td>\n",
              "      <td>0.000000</td>\n",
              "      <td>0.000000</td>\n",
              "      <td>18.000000</td>\n",
              "      <td>1.000000</td>\n",
              "      <td>4.000000</td>\n",
              "      <td>0.001391</td>\n",
              "    </tr>\n",
              "    <tr>\n",
              "      <th>25%</th>\n",
              "      <td>0.000000</td>\n",
              "      <td>0.000000</td>\n",
              "      <td>0.000000</td>\n",
              "      <td>0.000000</td>\n",
              "      <td>9.000000</td>\n",
              "      <td>8.000000</td>\n",
              "      <td>0.000000</td>\n",
              "      <td>0.000000</td>\n",
              "      <td>63.000000</td>\n",
              "      <td>1229.750000</td>\n",
              "      <td>10.000000</td>\n",
              "      <td>0.023468</td>\n",
              "    </tr>\n",
              "    <tr>\n",
              "      <th>50%</th>\n",
              "      <td>0.000000</td>\n",
              "      <td>0.000000</td>\n",
              "      <td>0.000000</td>\n",
              "      <td>0.000000</td>\n",
              "      <td>18.000000</td>\n",
              "      <td>17.000000</td>\n",
              "      <td>0.000000</td>\n",
              "      <td>0.000000</td>\n",
              "      <td>73.000000</td>\n",
              "      <td>2186.500000</td>\n",
              "      <td>11.000000</td>\n",
              "      <td>0.035019</td>\n",
              "    </tr>\n",
              "    <tr>\n",
              "      <th>75%</th>\n",
              "      <td>0.000000</td>\n",
              "      <td>0.000000</td>\n",
              "      <td>0.000000</td>\n",
              "      <td>0.000000</td>\n",
              "      <td>27.000000</td>\n",
              "      <td>26.000000</td>\n",
              "      <td>1.000000</td>\n",
              "      <td>0.000000</td>\n",
              "      <td>91.000000</td>\n",
              "      <td>3102.000000</td>\n",
              "      <td>14.000000</td>\n",
              "      <td>0.062513</td>\n",
              "    </tr>\n",
              "    <tr>\n",
              "      <th>max</th>\n",
              "      <td>6.000000</td>\n",
              "      <td>5.000000</td>\n",
              "      <td>3.000000</td>\n",
              "      <td>3.000000</td>\n",
              "      <td>275.000000</td>\n",
              "      <td>420.000000</td>\n",
              "      <td>27.000000</td>\n",
              "      <td>35.000000</td>\n",
              "      <td>249.000000</td>\n",
              "      <td>48835.000000</td>\n",
              "      <td>38.000000</td>\n",
              "      <td>0.995556</td>\n",
              "    </tr>\n",
              "  </tbody>\n",
              "</table>\n",
              "</div>"
            ],
            "text/plain": [
              "        peri_title   comm_title  ...  num_words_title  title_ratio\n",
              "count  8980.000000  8980.000000  ...      8980.000000  8980.000000\n",
              "mean      0.262918     0.222494  ...        12.438530     0.073233\n",
              "std       0.686063     0.500969  ...         4.083289     0.140026\n",
              "min       0.000000     0.000000  ...         4.000000     0.001391\n",
              "25%       0.000000     0.000000  ...        10.000000     0.023468\n",
              "50%       0.000000     0.000000  ...        11.000000     0.035019\n",
              "75%       0.000000     0.000000  ...        14.000000     0.062513\n",
              "max       6.000000     5.000000  ...        38.000000     0.995556\n",
              "\n",
              "[8 rows x 12 columns]"
            ]
          },
          "metadata": {
            "tags": []
          },
          "execution_count": 78
        }
      ]
    },
    {
      "cell_type": "code",
      "metadata": {
        "colab": {
          "base_uri": "https://localhost:8080/",
          "height": 297
        },
        "id": "VCbAwdPMgYQT",
        "outputId": "2dc18823-3261-4208-8472-93e9a93f29e3"
      },
      "source": [
        "X_train_punct_len.describe()"
      ],
      "execution_count": 79,
      "outputs": [
        {
          "output_type": "execute_result",
          "data": {
            "text/html": [
              "<div>\n",
              "<style scoped>\n",
              "    .dataframe tbody tr th:only-of-type {\n",
              "        vertical-align: middle;\n",
              "    }\n",
              "\n",
              "    .dataframe tbody tr th {\n",
              "        vertical-align: top;\n",
              "    }\n",
              "\n",
              "    .dataframe thead th {\n",
              "        text-align: right;\n",
              "    }\n",
              "</style>\n",
              "<table border=\"1\" class=\"dataframe\">\n",
              "  <thead>\n",
              "    <tr style=\"text-align: right;\">\n",
              "      <th></th>\n",
              "      <th>peri_title</th>\n",
              "      <th>comm_title</th>\n",
              "      <th>ques_title</th>\n",
              "      <th>excl_title</th>\n",
              "      <th>peri_text</th>\n",
              "      <th>comm_text</th>\n",
              "      <th>ques_text</th>\n",
              "      <th>excl_text</th>\n",
              "      <th>length_title</th>\n",
              "      <th>length_text</th>\n",
              "      <th>num_words_title</th>\n",
              "      <th>title_ratio</th>\n",
              "    </tr>\n",
              "  </thead>\n",
              "  <tbody>\n",
              "    <tr>\n",
              "      <th>count</th>\n",
              "      <td>35918.000000</td>\n",
              "      <td>35918.000000</td>\n",
              "      <td>35918.000000</td>\n",
              "      <td>35918.000000</td>\n",
              "      <td>35918.000000</td>\n",
              "      <td>35918.000000</td>\n",
              "      <td>35918.000000</td>\n",
              "      <td>35918.000000</td>\n",
              "      <td>35918.000000</td>\n",
              "      <td>35918.000000</td>\n",
              "      <td>35918.000000</td>\n",
              "      <td>35918.000000</td>\n",
              "    </tr>\n",
              "    <tr>\n",
              "      <th>mean</th>\n",
              "      <td>0.275099</td>\n",
              "      <td>0.225430</td>\n",
              "      <td>0.041539</td>\n",
              "      <td>0.080071</td>\n",
              "      <td>20.987165</td>\n",
              "      <td>20.241049</td>\n",
              "      <td>0.685283</td>\n",
              "      <td>0.411159</td>\n",
              "      <td>80.130742</td>\n",
              "      <td>2473.604739</td>\n",
              "      <td>12.457208</td>\n",
              "      <td>0.071432</td>\n",
              "    </tr>\n",
              "    <tr>\n",
              "      <th>std</th>\n",
              "      <td>0.702093</td>\n",
              "      <td>0.496716</td>\n",
              "      <td>0.212510</td>\n",
              "      <td>0.301074</td>\n",
              "      <td>18.456986</td>\n",
              "      <td>20.393809</td>\n",
              "      <td>1.851222</td>\n",
              "      <td>1.491799</td>\n",
              "      <td>25.444143</td>\n",
              "      <td>2192.788117</td>\n",
              "      <td>4.118541</td>\n",
              "      <td>0.134632</td>\n",
              "    </tr>\n",
              "    <tr>\n",
              "      <th>min</th>\n",
              "      <td>0.000000</td>\n",
              "      <td>0.000000</td>\n",
              "      <td>0.000000</td>\n",
              "      <td>0.000000</td>\n",
              "      <td>0.000000</td>\n",
              "      <td>0.000000</td>\n",
              "      <td>0.000000</td>\n",
              "      <td>0.000000</td>\n",
              "      <td>8.000000</td>\n",
              "      <td>1.000000</td>\n",
              "      <td>1.000000</td>\n",
              "      <td>0.000583</td>\n",
              "    </tr>\n",
              "    <tr>\n",
              "      <th>25%</th>\n",
              "      <td>0.000000</td>\n",
              "      <td>0.000000</td>\n",
              "      <td>0.000000</td>\n",
              "      <td>0.000000</td>\n",
              "      <td>10.000000</td>\n",
              "      <td>8.000000</td>\n",
              "      <td>0.000000</td>\n",
              "      <td>0.000000</td>\n",
              "      <td>63.000000</td>\n",
              "      <td>1235.000000</td>\n",
              "      <td>10.000000</td>\n",
              "      <td>0.023247</td>\n",
              "    </tr>\n",
              "    <tr>\n",
              "      <th>50%</th>\n",
              "      <td>0.000000</td>\n",
              "      <td>0.000000</td>\n",
              "      <td>0.000000</td>\n",
              "      <td>0.000000</td>\n",
              "      <td>18.000000</td>\n",
              "      <td>17.000000</td>\n",
              "      <td>0.000000</td>\n",
              "      <td>0.000000</td>\n",
              "      <td>73.000000</td>\n",
              "      <td>2186.000000</td>\n",
              "      <td>11.000000</td>\n",
              "      <td>0.034787</td>\n",
              "    </tr>\n",
              "    <tr>\n",
              "      <th>75%</th>\n",
              "      <td>0.000000</td>\n",
              "      <td>0.000000</td>\n",
              "      <td>0.000000</td>\n",
              "      <td>0.000000</td>\n",
              "      <td>27.000000</td>\n",
              "      <td>26.000000</td>\n",
              "      <td>1.000000</td>\n",
              "      <td>0.000000</td>\n",
              "      <td>91.000000</td>\n",
              "      <td>3107.000000</td>\n",
              "      <td>14.000000</td>\n",
              "      <td>0.063862</td>\n",
              "    </tr>\n",
              "    <tr>\n",
              "      <th>max</th>\n",
              "      <td>6.000000</td>\n",
              "      <td>5.000000</td>\n",
              "      <td>3.000000</td>\n",
              "      <td>4.000000</td>\n",
              "      <td>555.000000</td>\n",
              "      <td>518.000000</td>\n",
              "      <td>94.000000</td>\n",
              "      <td>133.000000</td>\n",
              "      <td>286.000000</td>\n",
              "      <td>51794.000000</td>\n",
              "      <td>42.000000</td>\n",
              "      <td>0.994505</td>\n",
              "    </tr>\n",
              "  </tbody>\n",
              "</table>\n",
              "</div>"
            ],
            "text/plain": [
              "         peri_title    comm_title  ...  num_words_title   title_ratio\n",
              "count  35918.000000  35918.000000  ...     35918.000000  35918.000000\n",
              "mean       0.275099      0.225430  ...        12.457208      0.071432\n",
              "std        0.702093      0.496716  ...         4.118541      0.134632\n",
              "min        0.000000      0.000000  ...         1.000000      0.000583\n",
              "25%        0.000000      0.000000  ...        10.000000      0.023247\n",
              "50%        0.000000      0.000000  ...        11.000000      0.034787\n",
              "75%        0.000000      0.000000  ...        14.000000      0.063862\n",
              "max        6.000000      5.000000  ...        42.000000      0.994505\n",
              "\n",
              "[8 rows x 12 columns]"
            ]
          },
          "metadata": {
            "tags": []
          },
          "execution_count": 79
        }
      ]
    },
    {
      "cell_type": "code",
      "metadata": {
        "id": "fQZpNRE5gaF_"
      },
      "source": [
        "from scipy import stats\n",
        "X_train_punct_len_zscore = X_train_punct_len.apply(stats.zscore, axis=0)\n",
        "mask_outliers = np.logical_not(((X_train_punct_len_zscore>5).any(axis=1)).values + ((X_train_punct_len_zscore<-5).any(axis=1)).values)\n",
        "X_train_punct_len = X_train_punct_len.loc[mask_outliers,:]\n",
        "y_train = y_train[X_train_punct_len.index]"
      ],
      "execution_count": 97,
      "outputs": []
    },
    {
      "cell_type": "code",
      "metadata": {
        "colab": {
          "base_uri": "https://localhost:8080/",
          "height": 297
        },
        "id": "gp_R3edFgb0Y",
        "outputId": "8894d0eb-91e1-4fe0-c744-ea8fd2b09e90"
      },
      "source": [
        "X_train_punct_len.describe()"
      ],
      "execution_count": 81,
      "outputs": [
        {
          "output_type": "execute_result",
          "data": {
            "text/html": [
              "<div>\n",
              "<style scoped>\n",
              "    .dataframe tbody tr th:only-of-type {\n",
              "        vertical-align: middle;\n",
              "    }\n",
              "\n",
              "    .dataframe tbody tr th {\n",
              "        vertical-align: top;\n",
              "    }\n",
              "\n",
              "    .dataframe thead th {\n",
              "        text-align: right;\n",
              "    }\n",
              "</style>\n",
              "<table border=\"1\" class=\"dataframe\">\n",
              "  <thead>\n",
              "    <tr style=\"text-align: right;\">\n",
              "      <th></th>\n",
              "      <th>peri_title</th>\n",
              "      <th>comm_title</th>\n",
              "      <th>ques_title</th>\n",
              "      <th>excl_title</th>\n",
              "      <th>peri_text</th>\n",
              "      <th>comm_text</th>\n",
              "      <th>ques_text</th>\n",
              "      <th>excl_text</th>\n",
              "      <th>length_title</th>\n",
              "      <th>length_text</th>\n",
              "      <th>num_words_title</th>\n",
              "      <th>title_ratio</th>\n",
              "    </tr>\n",
              "  </thead>\n",
              "  <tbody>\n",
              "    <tr>\n",
              "      <th>count</th>\n",
              "      <td>34209.000000</td>\n",
              "      <td>34209.000000</td>\n",
              "      <td>34209.000000</td>\n",
              "      <td>34209.000000</td>\n",
              "      <td>34209.000000</td>\n",
              "      <td>34209.000000</td>\n",
              "      <td>34209.000000</td>\n",
              "      <td>34209.000000</td>\n",
              "      <td>34209.000000</td>\n",
              "      <td>34209.000000</td>\n",
              "      <td>34209.000000</td>\n",
              "      <td>34209.000000</td>\n",
              "    </tr>\n",
              "    <tr>\n",
              "      <th>mean</th>\n",
              "      <td>0.267152</td>\n",
              "      <td>0.215557</td>\n",
              "      <td>0.034552</td>\n",
              "      <td>0.058932</td>\n",
              "      <td>20.404513</td>\n",
              "      <td>19.501125</td>\n",
              "      <td>0.580432</td>\n",
              "      <td>0.328832</td>\n",
              "      <td>79.183782</td>\n",
              "      <td>2397.618054</td>\n",
              "      <td>12.303312</td>\n",
              "      <td>0.056816</td>\n",
              "    </tr>\n",
              "    <tr>\n",
              "      <th>std</th>\n",
              "      <td>0.670164</td>\n",
              "      <td>0.462537</td>\n",
              "      <td>0.182646</td>\n",
              "      <td>0.235501</td>\n",
              "      <td>14.472362</td>\n",
              "      <td>15.054339</td>\n",
              "      <td>1.269826</td>\n",
              "      <td>0.903493</td>\n",
              "      <td>24.389182</td>\n",
              "      <td>1601.138820</td>\n",
              "      <td>3.948662</td>\n",
              "      <td>0.071067</td>\n",
              "    </tr>\n",
              "    <tr>\n",
              "      <th>min</th>\n",
              "      <td>0.000000</td>\n",
              "      <td>0.000000</td>\n",
              "      <td>0.000000</td>\n",
              "      <td>0.000000</td>\n",
              "      <td>0.000000</td>\n",
              "      <td>0.000000</td>\n",
              "      <td>0.000000</td>\n",
              "      <td>0.000000</td>\n",
              "      <td>8.000000</td>\n",
              "      <td>23.000000</td>\n",
              "      <td>1.000000</td>\n",
              "      <td>0.003235</td>\n",
              "    </tr>\n",
              "    <tr>\n",
              "      <th>25%</th>\n",
              "      <td>0.000000</td>\n",
              "      <td>0.000000</td>\n",
              "      <td>0.000000</td>\n",
              "      <td>0.000000</td>\n",
              "      <td>10.000000</td>\n",
              "      <td>9.000000</td>\n",
              "      <td>0.000000</td>\n",
              "      <td>0.000000</td>\n",
              "      <td>63.000000</td>\n",
              "      <td>1293.000000</td>\n",
              "      <td>10.000000</td>\n",
              "      <td>0.023246</td>\n",
              "    </tr>\n",
              "    <tr>\n",
              "      <th>50%</th>\n",
              "      <td>0.000000</td>\n",
              "      <td>0.000000</td>\n",
              "      <td>0.000000</td>\n",
              "      <td>0.000000</td>\n",
              "      <td>18.000000</td>\n",
              "      <td>17.000000</td>\n",
              "      <td>0.000000</td>\n",
              "      <td>0.000000</td>\n",
              "      <td>73.000000</td>\n",
              "      <td>2197.000000</td>\n",
              "      <td>11.000000</td>\n",
              "      <td>0.034422</td>\n",
              "    </tr>\n",
              "    <tr>\n",
              "      <th>75%</th>\n",
              "      <td>0.000000</td>\n",
              "      <td>0.000000</td>\n",
              "      <td>0.000000</td>\n",
              "      <td>0.000000</td>\n",
              "      <td>27.000000</td>\n",
              "      <td>26.000000</td>\n",
              "      <td>1.000000</td>\n",
              "      <td>0.000000</td>\n",
              "      <td>90.000000</td>\n",
              "      <td>3081.000000</td>\n",
              "      <td>14.000000</td>\n",
              "      <td>0.060803</td>\n",
              "    </tr>\n",
              "    <tr>\n",
              "      <th>max</th>\n",
              "      <td>3.000000</td>\n",
              "      <td>2.000000</td>\n",
              "      <td>1.000000</td>\n",
              "      <td>1.000000</td>\n",
              "      <td>113.000000</td>\n",
              "      <td>122.000000</td>\n",
              "      <td>9.000000</td>\n",
              "      <td>7.000000</td>\n",
              "      <td>206.000000</td>\n",
              "      <td>12985.000000</td>\n",
              "      <td>33.000000</td>\n",
              "      <td>0.737430</td>\n",
              "    </tr>\n",
              "  </tbody>\n",
              "</table>\n",
              "</div>"
            ],
            "text/plain": [
              "         peri_title    comm_title  ...  num_words_title   title_ratio\n",
              "count  34209.000000  34209.000000  ...     34209.000000  34209.000000\n",
              "mean       0.267152      0.215557  ...        12.303312      0.056816\n",
              "std        0.670164      0.462537  ...         3.948662      0.071067\n",
              "min        0.000000      0.000000  ...         1.000000      0.003235\n",
              "25%        0.000000      0.000000  ...        10.000000      0.023246\n",
              "50%        0.000000      0.000000  ...        11.000000      0.034422\n",
              "75%        0.000000      0.000000  ...        14.000000      0.060803\n",
              "max        3.000000      2.000000  ...        33.000000      0.737430\n",
              "\n",
              "[8 rows x 12 columns]"
            ]
          },
          "metadata": {
            "tags": []
          },
          "execution_count": 81
        }
      ]
    },
    {
      "cell_type": "code",
      "metadata": {
        "colab": {
          "base_uri": "https://localhost:8080/",
          "height": 450
        },
        "id": "Q3cb3GDngdOK",
        "outputId": "3ad11d2b-a653-478e-e236-a55fa3934253"
      },
      "source": [
        "import seaborn as sns\n",
        "fig, ax = plt.subplots(figsize=(8,6))\n",
        "sns.heatmap(np.abs(X_train_punct_len.corr()), annot=True)\n",
        "plt.savefig('correlation')\n",
        "plt.show()"
      ],
      "execution_count": 98,
      "outputs": [
        {
          "output_type": "display_data",
          "data": {
            "image/png": "[encoded data removed]",
            "text/plain": [
              "<Figure size 576x432 with 2 Axes>"
            ]
          },
          "metadata": {
            "tags": [],
            "needs_background": "light"
          }
        }
      ]
    },
    {
      "cell_type": "code",
      "metadata": {
        "colab": {
          "base_uri": "https://localhost:8080/",
          "height": 142
        },
        "id": "h1dvi3nNggNF",
        "outputId": "8f6040b1-0b63-4e5e-b5e8-0d75bbc11030"
      },
      "source": [
        "pd.concat([X_train_punct_len, y_train], axis=1).groupby('isfake').mean()"
      ],
      "execution_count": 92,
      "outputs": [
        {
          "output_type": "execute_result",
          "data": {
            "text/html": [
              "<div>\n",
              "<style scoped>\n",
              "    .dataframe tbody tr th:only-of-type {\n",
              "        vertical-align: middle;\n",
              "    }\n",
              "\n",
              "    .dataframe tbody tr th {\n",
              "        vertical-align: top;\n",
              "    }\n",
              "\n",
              "    .dataframe thead th {\n",
              "        text-align: right;\n",
              "    }\n",
              "</style>\n",
              "<table border=\"1\" class=\"dataframe\">\n",
              "  <thead>\n",
              "    <tr style=\"text-align: right;\">\n",
              "      <th></th>\n",
              "      <th>peri_title</th>\n",
              "      <th>comm_title</th>\n",
              "      <th>ques_title</th>\n",
              "      <th>excl_title</th>\n",
              "      <th>peri_text</th>\n",
              "      <th>comm_text</th>\n",
              "      <th>ques_text</th>\n",
              "      <th>excl_text</th>\n",
              "      <th>length_title</th>\n",
              "      <th>length_text</th>\n",
              "      <th>num_words_title</th>\n",
              "      <th>title_ratio</th>\n",
              "    </tr>\n",
              "    <tr>\n",
              "      <th>isfake</th>\n",
              "      <th></th>\n",
              "      <th></th>\n",
              "      <th></th>\n",
              "      <th></th>\n",
              "      <th></th>\n",
              "      <th></th>\n",
              "      <th></th>\n",
              "      <th></th>\n",
              "      <th></th>\n",
              "      <th></th>\n",
              "      <th></th>\n",
              "      <th></th>\n",
              "    </tr>\n",
              "  </thead>\n",
              "  <tbody>\n",
              "    <tr>\n",
              "      <th>0.0</th>\n",
              "      <td>0.444791</td>\n",
              "      <td>0.245674</td>\n",
              "      <td>0.006357</td>\n",
              "      <td>0.000765</td>\n",
              "      <td>20.867098</td>\n",
              "      <td>19.366215</td>\n",
              "      <td>0.093467</td>\n",
              "      <td>0.057622</td>\n",
              "      <td>64.667569</td>\n",
              "      <td>2379.861036</td>\n",
              "      <td>9.953267</td>\n",
              "      <td>0.048094</td>\n",
              "    </tr>\n",
              "    <tr>\n",
              "      <th>1.0</th>\n",
              "      <td>0.091875</td>\n",
              "      <td>0.185841</td>\n",
              "      <td>0.062373</td>\n",
              "      <td>0.116325</td>\n",
              "      <td>19.948081</td>\n",
              "      <td>19.634241</td>\n",
              "      <td>1.060921</td>\n",
              "      <td>0.596434</td>\n",
              "      <td>93.506940</td>\n",
              "      <td>2415.138916</td>\n",
              "      <td>14.622103</td>\n",
              "      <td>0.065423</td>\n",
              "    </tr>\n",
              "  </tbody>\n",
              "</table>\n",
              "</div>"
            ],
            "text/plain": [
              "        peri_title  comm_title  ...  num_words_title  title_ratio\n",
              "isfake                          ...                              \n",
              "0.0       0.444791    0.245674  ...         9.953267     0.048094\n",
              "1.0       0.091875    0.185841  ...        14.622103     0.065423\n",
              "\n",
              "[2 rows x 12 columns]"
            ]
          },
          "metadata": {
            "tags": []
          },
          "execution_count": 92
        }
      ]
    },
    {
      "cell_type": "code",
      "metadata": {
        "colab": {
          "base_uri": "https://localhost:8080/"
        },
        "id": "dPMFrlaEgiKj",
        "outputId": "a579d357-aed0-4710-b35d-cfbc4f9b2d2f"
      },
      "source": [
        "from sklearn.model_selection import cross_val_predict\n",
        "from sklearn.metrics import f1_score\n",
        "from sklearn.metrics import accuracy_score\n",
        "from sklearn.ensemble import RandomForestClassifier\n",
        "rf = RandomForestClassifier(random_state=21)\n",
        "preds = cross_val_predict(rf, X_train_punct_len, y_train, cv=5)\n",
        "f1 = f1_score(y_true=y_train, y_pred=preds)\n",
        "acc = accuracy_score(y_true=y_train, y_pred=preds)\n",
        "print(f'f1: {f1}\\nacc: {acc}')"
      ],
      "execution_count": 99,
      "outputs": [
        {
          "output_type": "stream",
          "text": [
            "f1: 0.9240986159677942\n",
            "acc: 0.9244935543278084\n"
          ],
          "name": "stdout"
        }
      ]
    },
    {
      "cell_type": "code",
      "metadata": {
        "colab": {
          "base_uri": "https://localhost:8080/"
        },
        "id": "p3njbQA4gkXr",
        "outputId": "15902c09-6d9f-49ba-eb77-a49d684bbfb5"
      },
      "source": [
        "rf.fit(X_train_punct_len, y_train)\n",
        "pd.Series(rf.feature_importances_, \n",
        "          index=X_train_punct_len.columns).sort_values(ascending=False)"
      ],
      "execution_count": 100,
      "outputs": [
        {
          "output_type": "execute_result",
          "data": {
            "text/plain": [
              "length_title       0.302418\n",
              "num_words_title    0.190137\n",
              "ques_text          0.104818\n",
              "title_ratio        0.098371\n",
              "length_text        0.084169\n",
              "peri_text          0.050730\n",
              "excl_text          0.049423\n",
              "comm_text          0.049402\n",
              "peri_title         0.032196\n",
              "excl_title         0.021362\n",
              "comm_title         0.011283\n",
              "ques_title         0.005692\n",
              "dtype: float64"
            ]
          },
          "metadata": {
            "tags": []
          },
          "execution_count": 100
        }
      ]
    },
    {
      "cell_type": "code",
      "metadata": {
        "colab": {
          "base_uri": "https://localhost:8080/"
        },
        "id": "fkW9eIm-gmbB",
        "outputId": "a51fd211-1e75-484c-b4cc-a24a9ddb74c2"
      },
      "source": [
        "from sklearn.model_selection import GridSearchCV\n",
        "params= {'n_estimators':[200,250,300],\n",
        "        'criterion':['gini', 'entropy'],\n",
        "        'max_depth':[5,10, None],\n",
        "        'max_features':[2,4,6]}\n",
        "gscv = GridSearchCV(rf, params)\n",
        "gscv.fit(X_train_punct_len, y_train)\n",
        "gscv.best_params_"
      ],
      "execution_count": 101,
      "outputs": [
        {
          "output_type": "execute_result",
          "data": {
            "text/plain": [
              "{'criterion': 'entropy',\n",
              " 'max_depth': None,\n",
              " 'max_features': 2,\n",
              " 'n_estimators': 250}"
            ]
          },
          "metadata": {
            "tags": []
          },
          "execution_count": 101
        }
      ]
    },
    {
      "cell_type": "code",
      "metadata": {
        "colab": {
          "base_uri": "https://localhost:8080/"
        },
        "id": "zmuhoIpTgtdN",
        "outputId": "04e1e746-9909-434e-febc-4d4f7e764d10"
      },
      "source": [
        "rf_tuned = RandomForestClassifier(criterion='entropy', max_depth=None, max_features=2, n_estimators=200, random_state=42)\n",
        "preds = cross_val_predict(rf_tuned, X_train_punct_len, y_train, cv=5)\n",
        "f1 = f1_score(y_true=y_train, y_pred=preds)\n",
        "acc = accuracy_score(y_true=y_train, y_pred=preds)\n",
        "print(f'f1: {f1}\\nacc: {acc}')"
      ],
      "execution_count": 73,
      "outputs": [
        {
          "output_type": "stream",
          "text": [
            "f1: 0.9185652529501109\n",
            "acc: 0.91850097927446\n"
          ],
          "name": "stdout"
        }
      ]
    },
    {
      "cell_type": "code",
      "metadata": {
        "colab": {
          "base_uri": "https://localhost:8080/"
        },
        "id": "7a-H39kRgwEs",
        "outputId": "5fe20e53-4a40-435b-8698-c994dea3c074"
      },
      "source": [
        "rf_tuned.fit(X_train_punct_len, y_train)\n",
        "pd.Series(rf_tuned.feature_importances_, \n",
        "          index=X_train_punct_len.columns).sort_values(ascending=False)"
      ],
      "execution_count": 102,
      "outputs": [
        {
          "output_type": "execute_result",
          "data": {
            "text/plain": [
              "length_title       0.252627\n",
              "num_words_title    0.179802\n",
              "title_ratio        0.109736\n",
              "ques_text          0.103369\n",
              "length_text        0.097396\n",
              "comm_text          0.062655\n",
              "peri_text          0.061644\n",
              "excl_text          0.050636\n",
              "peri_title         0.037502\n",
              "excl_title         0.024713\n",
              "comm_title         0.012757\n",
              "ques_title         0.007162\n",
              "dtype: float64"
            ]
          },
          "metadata": {
            "tags": []
          },
          "execution_count": 102
        }
      ]
    },
    {
      "cell_type": "code",
      "metadata": {
        "colab": {
          "base_uri": "https://localhost:8080/"
        },
        "id": "Z4syCK4-gyVs",
        "outputId": "c5988874-8e3b-4fc0-ef38-10e32754155d"
      },
      "source": [
        "preds_test = rf_tuned.predict(X_test_punct_len) \n",
        "f1 = f1_score(y_true=y_test, y_pred=preds_test)\n",
        "acc = accuracy_score(y_true=y_test, y_pred=preds_test)\n",
        "print(f'f1: {f1}\\nacc: {acc}')"
      ],
      "execution_count": 103,
      "outputs": [
        {
          "output_type": "stream",
          "text": [
            "f1: 0.9318521683400982\n",
            "acc: 0.9289532293986636\n"
          ],
          "name": "stdout"
        }
      ]
    },
    {
      "cell_type": "code",
      "metadata": {
        "id": "rpVvpZL2g0oM"
      },
      "source": [
        ""
      ],
      "execution_count": null,
      "outputs": []
    }
  ]
}